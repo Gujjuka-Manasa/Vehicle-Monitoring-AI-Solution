{
 "cells": [
  {
   "cell_type": "markdown",
   "id": "41c23969-a52a-4ac3-a135-02a276f68476",
   "metadata": {},
   "source": [
    "# Importing libraries"
   ]
  },
  {
   "cell_type": "code",
   "execution_count": 18,
   "id": "0fbc0660-8e61-4ba4-a5f4-9c8265d95d50",
   "metadata": {},
   "outputs": [],
   "source": [
    "import cv2\n",
    "import numpy as np\n",
    "import imutils\n",
    "import easyocr\n",
    "import csv\n",
    "from datetime import datetime\n",
    "import pandas as pd\n",
    "import matplotlib.pyplot as plt\n"
   ]
  },
  {
   "cell_type": "markdown",
   "id": "9ef491f3-e4ef-415e-93e6-def089bd8526",
   "metadata": {},
   "source": [
    "# Loading the Training Dataset"
   ]
  },
  {
   "cell_type": "code",
   "execution_count": 19,
   "id": "1c723a9e-fcc7-4cd0-a97d-708498c739e1",
   "metadata": {},
   "outputs": [],
   "source": [
    "video_path = r\"C:\\Users\\manas\\OneDrive\\Desktop\\WhatsApp Video 2024-06-08 at 11.46.07 (1).mp4\"  # Update with your video file path\n",
    "output_csv_path = r\"C:\\Users\\manas\\OneDrive\\Desktop\\text analytics\\detected_number_plates.csv\"\n",
    "training_csv_path = r\"C:\\Users\\manas\\OneDrive\\Desktop\\text analytics\\Training vehicle_number plate.csv\"  # Path to training dataset\n",
    "\n",
    "# Load the training dataset into a set for quick lookup\n",
    "try:\n",
    "    with open(training_csv_path, mode='r', encoding='utf-8') as training_file:\n",
    "        csv_reader = csv.reader(training_file)\n",
    "        next(csv_reader)  # Skip the header row\n",
    "        training_plates = set(row[0].strip() for row in csv_reader if row)\n",
    "except FileNotFoundError:\n",
    "    print(f\"Error: Training dataset not found at {training_csv_path}.\")\n",
    "    exit()"
   ]
  },
  {
   "cell_type": "markdown",
   "id": "5745aa24-1e80-46b7-bcc3-fbd4341273d8",
   "metadata": {},
   "source": [
    "# Writing to the Output CSV"
   ]
  },
  {
   "cell_type": "code",
   "execution_count": 20,
   "id": "bb4c9c59-ee23-4cda-8621-f79a43ea64b2",
   "metadata": {},
   "outputs": [],
   "source": [
    "# Create the output CSV file with headers if it doesn't exist\n",
    "with open(output_csv_path, mode='w', newline='', encoding='utf-8') as output_file:\n",
    "    csv_writer = csv.writer(output_file)\n",
    "    # Write the headers\n",
    "    csv_writer.writerow([\"Date\", \"Time\", \"Number Plate\"])"
   ]
  },
  {
   "cell_type": "markdown",
   "id": "7a15b035-6e5f-4ff4-bc29-b067afbd5dab",
   "metadata": {},
   "source": [
    "# Processing Each Video Frame"
   ]
  },
  {
   "cell_type": "code",
   "execution_count": 21,
   "id": "dfebb6de-f141-4f5a-b1a8-358786941770",
   "metadata": {},
   "outputs": [],
   "source": [
    "# Initialize a set to track already saved number plates\n",
    "detected_plates = set()\n",
    "\n",
    "# Function to process each frame and save valid detections to the output CSV\n",
    "def process_frame(frame, reader):\n",
    "    global detected_plates\n",
    "\n",
    "    # Convert the frame to grayscale\n",
    "    gray = cv2.cvtColor(frame, cv2.COLOR_BGR2GRAY)\n",
    "\n",
    "    # Apply bilateral filter to reduce noise\n",
    "    bfilter = cv2.bilateralFilter(gray, 11, 17, 17)\n",
    "\n",
    "    # Detect edges using Canny edge detection\n",
    "    edged = cv2.Canny(bfilter, 30, 200)\n",
    "\n",
    "    # Find contours in the edged image\n",
    "    keypoints = cv2.findContours(edged.copy(), cv2.RETR_TREE, cv2.CHAIN_APPROX_SIMPLE)\n",
    "    contours = imutils.grab_contours(keypoints)\n",
    "    contours = sorted(contours, key=cv2.contourArea, reverse=True)[:10]\n",
    "\n",
    "    # Initialize location variable\n",
    "    location = None\n",
    "\n",
    "    # Loop through contours to find the best approximated polygon for the plate\n",
    "    for contour in contours:\n",
    "        approx = cv2.approxPolyDP(contour, 10, True)\n",
    "        if len(approx) == 4:\n",
    "            location = approx\n",
    "            break\n",
    "    if location is not None:\n",
    "        # Create a mask for the number plate\n",
    "        mask = np.zeros(gray.shape, np.uint8)\n",
    "        new_image = cv2.drawContours(mask, [location], 0, 255, -1)\n",
    "        new_image = cv2.bitwise_and(frame, frame, mask=mask)\n",
    "\n",
    "        # Extract the coordinates of the number plate\n",
    "        (x, y) = np.where(mask == 255)\n",
    "        (x1, y1) = (np.min(x), np.min(y))\n",
    "        (x2, y2) = (np.max(x), np.max(y))\n",
    "\n",
    "        # Crop the plate area from the grayscale image\n",
    "        cropped_image = gray[x1:x2+1, y1:y2+1]\n",
    "\n",
    "        # Use EasyOCR to read text from the cropped image\n",
    "        result = reader.readtext(cropped_image)\n",
    "\n",
    "        # If text is detected, process it\n",
    "        if result:\n",
    "            text = result[0][1].strip()\n",
    "\n",
    "            # Check if the plate meets criteria and is in the training dataset\n",
    "            if text in training_plates and text not in detected_plates:\n",
    "                # Add to the set of detected plates\n",
    "                detected_plates.add(text)\n",
    "\n",
    "                # Get current date and time\n",
    "                current_time = datetime.now()\n",
    "                date = current_time.strftime('%Y-%m-%d')\n",
    "                time = current_time.strftime('%H:%M:%S')\n",
    "  # Save to the output CSV file\n",
    "                with open(output_csv_path, mode='a', newline='', encoding='utf-8') as output_file:\n",
    "                    csv_writer = csv.writer(output_file)\n",
    "                    csv_writer.writerow([date, time, text])\n",
    "\n",
    "                # Display detected plate on the frame\n",
    "                cv2.putText(frame, text, (location[0][0][0], location[1][0][1] + 60),\n",
    "                            cv2.FONT_HERSHEY_SIMPLEX, 1, (0, 255, 0), 2)\n",
    "                cv2.rectangle(frame, tuple(location[0][0]), tuple(location[2][0]), (0, 255, 0), 3)\n",
    "\n",
    "    return frame"
   ]
  },
  {
   "cell_type": "markdown",
   "id": "a14e4631-6304-4de2-ba62-39e02469b6be",
   "metadata": {},
   "source": [
    "# Video Capture and Processing Loop"
   ]
  },
  {
   "cell_type": "code",
   "execution_count": 22,
   "id": "1446776a-6917-4d46-9e3b-b3d87fff384f",
   "metadata": {},
   "outputs": [
    {
     "name": "stderr",
     "output_type": "stream",
     "text": [
      "Neither CUDA nor MPS are available - defaulting to CPU. Note: This module is much faster with a GPU.\n"
     ]
    }
   ],
   "source": [
    "# Load the video stream\n",
    "cap = cv2.VideoCapture(video_path)\n",
    "\n",
    "# Check if the video stream was opened successfully\n",
    "if not cap.isOpened():\n",
    "    print(\"Error: Unable to open video stream.\")\n",
    "    exit()\n",
    "\n",
    "# Initialize EasyOCR reader\n",
    "reader = easyocr.Reader(['en'])\n",
    "\n",
    "while True:\n",
    "    # Capture frame-by-frame\n",
    "    ret, frame = cap.read()\n",
    "\n",
    "    # If the frame was not captured successfully, break the loop\n",
    "    if not ret:\n",
    "        break\n",
    "\n",
    "    # Process the frame\n",
    "    processed_frame = process_frame(frame, reader)\n",
    "\n",
    "    # Show the video stream with the detected number plate\n",
    "    cv2.imshow(\"Number Plate Detection\", processed_frame)\n",
    "\n",
    "    # Break the loop if 'q' is pressed\n",
    "    if cv2.waitKey(1) & 0xFF == ord('q'):\n",
    "        break\n",
    "\n",
    "# Release the video capture object and close all windows\n",
    "cap.release()\n",
    "cv2.destroyAllWindows()\n"
   ]
  },
  {
   "cell_type": "markdown",
   "id": "45b3ffad-c5bc-4403-bc30-f67569ff3f7a",
   "metadata": {},
   "source": [
    " # Data Visualization"
   ]
  },
  {
   "cell_type": "markdown",
   "id": "f68572e0-ba68-4443-95cb-6df1711d3b34",
   "metadata": {},
   "source": [
    "# Bar Chart for Number Plates Detected by Date"
   ]
  },
  {
   "cell_type": "code",
   "execution_count": 23,
   "id": "cc13fdff-3d59-4cdd-b8e4-7994934cc8f2",
   "metadata": {},
   "outputs": [
    {
     "data": {
      "image/png": "[encoded data removed]",
      "text/plain": [
       "<Figure size 1000x600 with 1 Axes>"
      ]
     },
     "metadata": {},
     "output_type": "display_data"
    }
   ],
   "source": [
    "# Visualization Code\n",
    "def visualize_results(csv_path):\n",
    "    df = pd.read_csv(csv_path)\n",
    "\n",
    "    # Plot 1: Bar chart of detections by date\n",
    "    plt.figure(figsize=(10, 6))\n",
    "    date_counts = df['Date'].value_counts()\n",
    "    date_counts.plot(kind='bar', color='skyblue')\n",
    "    plt.title(\"Number Plates Detected by Date\")\n",
    "    plt.xlabel(\"Date\")\n",
    "    plt.ylabel(\"Count\")\n",
    "    plt.xticks(rotation=45)\n",
    "    plt.tight_layout()\n",
    "    plt.show()\n",
    "# Call the visualization function\n",
    "visualize_results(output_csv_path)"
   ]
  },
  {
   "cell_type": "markdown",
   "id": "c5304cf6-1f87-40e2-9a9b-e964c45561d4",
   "metadata": {},
   "source": [
    "# Time-Series Line Chart for Detections Over Time"
   ]
  },
  {
   "cell_type": "code",
   "execution_count": 24,
   "id": "52bdcbfd-9991-4ae0-9a15-dd847a4ffa1a",
   "metadata": {},
   "outputs": [
    {
     "data": {
      "image/png": "[encoded data removed]",
      "text/plain": [
       "<Figure size 1000x600 with 1 Axes>"
      ]
     },
     "metadata": {},
     "output_type": "display_data"
    }
   ],
   "source": [
    "def visualize_results(csv_path):\n",
    "    # Load the detected data\n",
    "    df = pd.read_csv(csv_path)\n",
    "\n",
    "# Plot 2: Time-series detections by time of day\n",
    "    plt.figure(figsize=(10, 6))\n",
    "    df['Time'] = pd.to_datetime(df['Time'], format='%H:%M:%S').dt.time\n",
    "    df['Time'] = df['Time'].astype(str)  # Convert to string for grouping\n",
    "    time_counts = df['Time'].value_counts().sort_index()\n",
    "    time_counts.plot(kind='line', marker='o', color='green')\n",
    "    plt.title(\"Detections Over Time of Day\")\n",
    "    plt.xlabel(\"Time\")\n",
    "    plt.ylabel(\"Detections\")\n",
    "    plt.grid()\n",
    "    plt.tight_layout()\n",
    "    plt.show()\n",
    "# Call the visualization function\n",
    "visualize_results(output_csv_path)"
   ]
  },
  {
   "cell_type": "markdown",
   "id": "4a0826d9-5b16-49d9-913a-c93db7e2ba61",
   "metadata": {},
   "source": [
    "# Pie Chart for Unique Number Plates Detected"
   ]
  },
  {
   "cell_type": "code",
   "execution_count": 25,
   "id": "089a85c3-c6c1-43a1-aec0-87a576dffacb",
   "metadata": {},
   "outputs": [
    {
     "ename": "NameError",
     "evalue": "name 'sns' is not defined",
     "output_type": "error",
     "traceback": [
      "\u001b[1;31m---------------------------------------------------------------------------\u001b[0m",
      "\u001b[1;31mNameError\u001b[0m                                 Traceback (most recent call last)",
      "Cell \u001b[1;32mIn[25], line 15\u001b[0m\n\u001b[0;32m     13\u001b[0m     plt\u001b[38;5;241m.\u001b[39mshow()\n\u001b[0;32m     14\u001b[0m \u001b[38;5;66;03m# Call the visualization function\u001b[39;00m\n\u001b[1;32m---> 15\u001b[0m visualize_results(output_csv_path)\n",
      "Cell \u001b[1;32mIn[25], line 9\u001b[0m, in \u001b[0;36mvisualize_results\u001b[1;34m(csv_path)\u001b[0m\n\u001b[0;32m      7\u001b[0m plt\u001b[38;5;241m.\u001b[39mfigure(figsize\u001b[38;5;241m=\u001b[39m(\u001b[38;5;241m8\u001b[39m, \u001b[38;5;241m8\u001b[39m))\n\u001b[0;32m      8\u001b[0m plate_counts \u001b[38;5;241m=\u001b[39m df[\u001b[38;5;124m'\u001b[39m\u001b[38;5;124mNumber Plate\u001b[39m\u001b[38;5;124m'\u001b[39m]\u001b[38;5;241m.\u001b[39mvalue_counts()\n\u001b[1;32m----> 9\u001b[0m plate_counts\u001b[38;5;241m.\u001b[39mplot\u001b[38;5;241m.\u001b[39mpie(autopct\u001b[38;5;241m=\u001b[39m\u001b[38;5;124m'\u001b[39m\u001b[38;5;132;01m%1.1f\u001b[39;00m\u001b[38;5;132;01m%%\u001b[39;00m\u001b[38;5;124m'\u001b[39m, startangle\u001b[38;5;241m=\u001b[39m\u001b[38;5;241m140\u001b[39m, colors\u001b[38;5;241m=\u001b[39msns\u001b[38;5;241m.\u001b[39mcolor_palette(\u001b[38;5;124m\"\u001b[39m\u001b[38;5;124mpastel\u001b[39m\u001b[38;5;124m\"\u001b[39m))\n\u001b[0;32m     10\u001b[0m plt\u001b[38;5;241m.\u001b[39mtitle(\u001b[38;5;124m\"\u001b[39m\u001b[38;5;124mProportion of Unique Number Plates Detected\u001b[39m\u001b[38;5;124m\"\u001b[39m)\n\u001b[0;32m     11\u001b[0m plt\u001b[38;5;241m.\u001b[39mylabel(\u001b[38;5;124m\"\u001b[39m\u001b[38;5;124m\"\u001b[39m)  \u001b[38;5;66;03m# Remove y-axis label\u001b[39;00m\n",
      "\u001b[1;31mNameError\u001b[0m: name 'sns' is not defined"
     ]
    },
    {
     "data": {
      "text/plain": [
       "<Figure size 800x800 with 0 Axes>"
      ]
     },
     "metadata": {},
     "output_type": "display_data"
    }
   ],
   "source": [
    "def visualize_results(csv_path):\n",
    "    # Load the detected data\n",
    "    df = pd.read_csv(csv_path)\n",
    "\n",
    "\n",
    "     # Plot 3: Pie chart of unique number plates detected\n",
    "    plt.figure(figsize=(8, 8))\n",
    "    plate_counts = df['Number Plate'].value_counts()\n",
    "    plate_counts.plot.pie(autopct='%1.1f%%', startangle=140, colors=sns.color_palette(\"pastel\"))\n",
    "    plt.title(\"Proportion of Unique Number Plates Detected\")\n",
    "    plt.ylabel(\"\")  # Remove y-axis label\n",
    "    plt.tight_layout()\n",
    "    plt.show()\n",
    "# Call the visualization function\n",
    "visualize_results(output_csv_path)"
   ]
  },
  {
   "cell_type": "markdown",
   "id": "0526c535-a74a-4a13-8243-12d53b9a0431",
   "metadata": {},
   "source": [
    "# Heatmap for Detection Frequency by Hour"
   ]
  },
  {
   "cell_type": "code",
   "execution_count": null,
   "id": "6e8a8cf7-6778-42eb-8feb-87b37bcdd451",
   "metadata": {},
   "outputs": [],
   "source": [
    "def visualize_results(csv_path):\n",
    "    # Load the detected data\n",
    "    df = pd.read_csv(csv_path)\n",
    " # Plot 4: Heatmap of detection frequency by hour\n",
    "    df['Hour'] = pd.to_datetime(df['Time'], format='%H:%M:%S').dt.hour\n",
    "    hour_counts = df.groupby(['Date', 'Hour']).size().unstack(fill_value=0)\n",
    "    plt.figure(figsize=(12, 8))\n",
    "    sns.heatmap(hour_counts, cmap=\"Blues\", annot=True, fmt=\"d\", cbar=True)\n",
    "    plt.title(\"Detection Frequency Heatmap (by Hour)\")\n",
    "    plt.xlabel(\"Hour\")\n",
    "    plt.ylabel(\"Date\")\n",
    "    plt.tight_layout()\n",
    "    plt.show()\n",
    "\n",
    "     \n",
    "# Call the visualization function\n",
    "visualize_results(output_csv_path)"
   ]
  },
  {
   "cell_type": "code",
   "execution_count": null,
   "id": "ace6f94f-7db5-4508-92fc-66b036aaf2d8",
   "metadata": {},
   "outputs": [],
   "source": []
  }
 ],
 "metadata": {
  "kernelspec": {
   "display_name": "Python 3 (ipykernel)",
   "language": "python",
   "name": "python3"
  },
  "language_info": {
   "codemirror_mode": {
    "name": "ipython",
    "version": 3
   },
   "file_extension": ".py",
   "mimetype": "text/x-python",
   "name": "python",
   "nbconvert_exporter": "python",
   "pygments_lexer": "ipython3",
   "version": "3.11.7"
  }
 },
 "nbformat": 4,
 "nbformat_minor": 5
}
